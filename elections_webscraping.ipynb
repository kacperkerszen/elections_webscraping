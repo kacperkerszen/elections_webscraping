{
 "cells": [
  {
   "cell_type": "code",
   "execution_count": null,
   "id": "93460114-8075-46ac-a770-8cff1144fec6",
   "metadata": {
    "tags": []
   },
   "outputs": [],
   "source": [
    "import pyodbc\n",
    "drivers=[item for item in pyodbc.drivers()]\n",
    "print(\"drivers:{}\".format(drivers))"
   ]
  },
  {
   "cell_type": "code",
   "execution_count": null,
   "id": "e468f8cf-431f-4b18-a8b6-bf47eda3a616",
   "metadata": {
    "tags": []
   },
   "outputs": [],
   "source": [
    "server='localhost\\\\SQLEXP'\n",
    "database='Serbian_elections'\n",
    "username='KK'\n",
    "password='kk00'\n",
    "driver='{ODBC Driver 17 for SQL Server}'"
   ]
  },
  {
   "cell_type": "code",
   "execution_count": null,
   "id": "1f862320-2aca-48bc-a1cd-57de42bf6f3d",
   "metadata": {
    "tags": []
   },
   "outputs": [],
   "source": [
    "connection=pyodbc.connect('DRIVER='+driver+';SERVER='+server+';PORT=1433;DATABASE='+database+';UID='+username+';PWD='+password+';Encrypt=no')"
   ]
  },
  {
   "cell_type": "code",
   "execution_count": null,
   "id": "dfbf59a8-9cd4-4846-ad91-0c44e7e06f97",
   "metadata": {
    "tags": []
   },
   "outputs": [],
   "source": [
    "cursor=connection.cursor()"
   ]
  },
  {
   "cell_type": "code",
   "execution_count": null,
   "id": "022a106f-7d4b-4f2d-90f3-21c3ce1bbaf7",
   "metadata": {
    "tags": []
   },
   "outputs": [],
   "source": [
    "import requests\n",
    "import pandas as pd\n",
    "from bs4 import BeautifulSoup"
   ]
  },
  {
   "cell_type": "code",
   "execution_count": null,
   "id": "cfdb6497-b80a-4ebe-909c-552b00b92e38",
   "metadata": {
    "tags": []
   },
   "outputs": [],
   "source": [
    "URL = \"https://en.wikipedia.org/wiki/2023_Serbian_parliamentary_election\"\n",
    "webpage = requests.get(URL)\n",
    "soup = BeautifulSoup(webpage.text, \"html.parser\")\n",
    "citationText = soup.find_all(\"span\", attrs={'class':'reference-text'})\n",
    "\n",
    "for i in citationText:\n",
    "    print(i.get_text(strip=True))       \n",
    "\n",
    "texts = [span.get_text(strip=True) for span in soup.find_all(\"span\", attrs={'class':'reference-text'})]\n",
    "\n",
    "df = pd.DataFrame(texts)\n",
    "\n",
    "df.to_csv(\"wiki2.csv\",encoding=\"utf-8-sig\",index=False)\n",
    "df.to_json(\"wiki2.json\",force_ascii=False)"
   ]
  },
  {
   "cell_type": "code",
   "execution_count": null,
   "id": "58dc8fb0-de4d-4fba-a587-0f29e636adaa",
   "metadata": {},
   "outputs": [],
   "source": [
    "if webpage.status_code == 200:\n",
    "\n",
    "    tables = soup.find_all('table')\n",
    "\n",
    "    for table in tables:\n",
    "        if 'sortable' in table.attrs.get('class', []):\n",
    "            df_se = pd.read_html(str(table))[0]\n",
    "\n",
    "            print(df_se)\n",
    "            break\n",
    "    else:\n",
    "        print(\"No suitable table with the specified class found.\")\n",
    "\n",
    "else:\n",
    "    print(\"Failed to retrieve the webpage. Check the URL or your internet connection.\")\n"
   ]
  },
  {
   "cell_type": "code",
   "execution_count": null,
   "id": "1b6c69eb",
   "metadata": {},
   "outputs": [],
   "source": [
    "df_se = df_se.drop(df_se.columns[0], axis=1).iloc[:-6]\n",
    "\n",
    "print(df_se)"
   ]
  },
  {
   "cell_type": "code",
   "execution_count": null,
   "id": "cc61666f",
   "metadata": {},
   "outputs": [],
   "source": [
    "df_se.to_csv('election_results_se.csv', index=False)\n",
    "df_se.to_json(\"election_results_se.json\",force_ascii=False)\n",
    "\n",
    "print(\"Table successfully scraped and saved as 'election_results_se.csv'\")"
   ]
  },
  {
   "cell_type": "code",
   "execution_count": null,
   "id": "6bc5ceb6",
   "metadata": {
    "scrolled": true
   },
   "outputs": [],
   "source": [
    "import matplotlib.pyplot as plt\n",
    "import pandas as pd\n",
    "\n",
    "# Flatten the MultiIndex column names\n",
    "df_se.columns = [' '.join(col).strip() for col in df_se.columns.values]\n",
    "\n",
    "# Convert numeric columns to appropriate data types\n",
    "df_se['Votes'] = pd.to_numeric(df_se['99.63% reporting Votes'], errors='coerce')\n",
    "df_se['Percentage'] = pd.to_numeric(df_se['99.63% reporting %'], errors='coerce')\n",
    "df_se['Change'] = pd.to_numeric(df_se['99.63% reporting +/–'], errors='coerce')\n",
    "df_se['Seats'] = pd.to_numeric(df_se['99.63% reporting Seats'], errors='coerce')\n",
    "df_se['Change_Seats'] = pd.to_numeric(df_se['99.63% reporting +/–.1'], errors='coerce')\n",
    "\n",
    "# Sorting DataFrame by Votes\n",
    "df_se = df_se.sort_values(by='Votes', ascending=False)\n",
    "\n",
    "# Plotting\n",
    "fig, (ax1, ax2, ax3) = plt.subplots(3, 1, figsize=(12, 18))\n",
    "\n",
    "# Bar plot for Votes\n",
    "df_se.plot(kind='bar', x='99.63% reporting Party, alliance, or citizens\\' group.1', y='Votes', ax=ax1, color='blue', legend=False)\n",
    "ax1.set_ylabel('Votes')\n",
    "ax1.set_title('Votes by Party (Sorted)')\n",
    "\n",
    "# Bar plot for Seats\n",
    "df_se.plot(kind='bar', x='99.63% reporting Party, alliance, or citizens\\' group.1', y='Seats', ax=ax2, color='green', legend=False)\n",
    "ax2.set_ylabel('Seats')\n",
    "ax2.set_title('Seats by Party (Sorted)')\n",
    "\n",
    "# Line plot for Percentage\n",
    "df_se.plot(kind='line', x='99.63% reporting Party, alliance, or citizens\\' group.1', y='Percentage', marker='o', ax=ax3, color='red', legend=False)\n",
    "ax3.set_ylabel('Percentage')\n",
    "ax3.set_title('Percentage by Party (Sorted)')\n",
    "\n",
    "# Adjust layout\n",
    "plt.tight_layout()\n",
    "\n",
    "# Save the plots to files\n",
    "plt.savefig('votes_by_party.png')\n",
    "plt.savefig('seats_by_party.png')\n",
    "plt.savefig('percentage_by_party.png')\n",
    "\n",
    "# Show the plots\n",
    "plt.show()\n",
    "\n",
    "print(\"Graphs exported.\")\n"
   ]
  },
  {
   "cell_type": "code",
   "execution_count": null,
   "id": "4d7a20ce",
   "metadata": {},
   "outputs": [],
   "source": [
    "URL_PL = \"https://en.wikipedia.org/wiki/2023_Polish_parliamentary_election\"\n",
    "webpage_PL = requests.get(URL_PL)\n",
    "soup2 = BeautifulSoup(webpage_PL.text, \"html.parser\")\n",
    "citationText = soup.find_all(\"span\", attrs={'class':'reference-text'})\n",
    "\n",
    "for i in citationText:\n",
    "    print(i.get_text(strip=True))       \n",
    "\n",
    "texts = [span.get_text(strip=True) for span in soup.find_all(\"span\", attrs={'class':'reference-text'})]\n",
    "\n",
    "df2 = pd.DataFrame(texts)\n",
    "\n",
    "df2.to_csv(\"text_pl.csv\",encoding=\"utf-8-sig\",index=False)\n",
    "df2.to_json(\"text_pl.json\",force_ascii=False)"
   ]
  },
  {
   "cell_type": "code",
   "execution_count": null,
   "id": "8681d237",
   "metadata": {},
   "outputs": [],
   "source": [
    "if webpage_PL.status_code == 200:\n",
    "    soup = BeautifulSoup(webpage_PL.content, 'lxml')\n",
    "\n",
    "    tables = soup.find_all('table')\n",
    "\n",
    "    if 0 <= 15 < len(tables):\n",
    "        desired_table = tables[15]\n",
    "\n",
    "        df_pl = pd.read_html(str(desired_table))[0]\n",
    "\n",
    "        print(df_pl)\n",
    "    else:\n",
    "        print(\"Error: Desired table index is out of range.\")\n",
    "else:\n",
    "    print(f\"Error: Unable to fetch the page (Status Code: {webpage_PL.status_code})\")"
   ]
  },
  {
   "cell_type": "code",
   "execution_count": null,
   "id": "cee4fd16",
   "metadata": {},
   "outputs": [],
   "source": [
    "#porządkowanie danych\n",
    "df_pl = df_pl.drop(df_pl.columns[[0, 2]], axis=1).iloc[:-6]\n",
    "\n",
    "print(df_pl)\n"
   ]
  },
  {
   "cell_type": "code",
   "execution_count": null,
   "id": "38788d35",
   "metadata": {},
   "outputs": [],
   "source": [
    "df_pl.to_csv('election_results_pl.csv', index=False)\n",
    "df_pl.to_json(\"election_results_pl.json\",force_ascii=False)\n",
    "\n",
    "print(\"Table successfully scraped and saved as 'election_results_pl.csv'\")"
   ]
  },
  {
   "cell_type": "code",
   "execution_count": null,
   "id": "34393899",
   "metadata": {},
   "outputs": [],
   "source": [
    "# zmiana formatu wartości\n",
    "df_pl['Votes'] = pd.to_numeric(df_pl['Votes'], errors='coerce')\n",
    "df_pl['Seats'] = pd.to_numeric(df_pl['Seats'], errors='coerce')\n",
    "\n",
    "# grupowanie wartości dla partii\n",
    "grouped_df = df_pl.groupby('Party or alliance.1')[['Votes', 'Seats']].sum()\n",
    "\n",
    "# sortowanie\n",
    "grouped_df = grouped_df.sort_values(by='Votes', ascending=False)\n",
    "\n",
    "# plotting\n",
    "fig, ax1 = plt.subplots(figsize=(12, 6))\n",
    "\n",
    "# wykres dla głosów\n",
    "grouped_df.plot(kind='bar', y='Votes', ax=ax1, color='blue', legend=False)\n",
    "ax1.set_ylabel('Votes')\n",
    "\n",
    "# oś dla mandatów\n",
    "ax2 = ax1.twinx()\n",
    "grouped_df.plot(kind='line', y='Seats', ax=ax2, color='red', marker='o', legend=False)\n",
    "ax2.set_ylabel('Seats')\n",
    "\n",
    "plt.title('Votes and Seats by Party or Alliance')\n",
    "plt.xlabel('Party or Alliance')\n",
    "\n",
    "plt.savefig('votes_and_seat_by_party_pl.png')\n",
    "\n",
    "plt.show()\n",
    "\n",
    "print(\"Graph exported.\")"
   ]
  },
  {
   "cell_type": "code",
   "execution_count": null,
   "id": "85a3d911",
   "metadata": {},
   "outputs": [],
   "source": []
  }
 ],
 "metadata": {
  "kernelspec": {
   "display_name": "Python 3 (ipykernel)",
   "language": "python",
   "name": "python3"
  },
  "language_info": {
   "codemirror_mode": {
    "name": "ipython",
    "version": 3
   },
   "file_extension": ".py",
   "mimetype": "text/x-python",
   "name": "python",
   "nbconvert_exporter": "python",
   "pygments_lexer": "ipython3",
   "version": "3.11.4"
  }
 },
 "nbformat": 4,
 "nbformat_minor": 5
}
